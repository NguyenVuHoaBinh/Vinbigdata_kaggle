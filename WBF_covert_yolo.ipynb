{
 "cells": [
  {
   "cell_type": "code",
   "execution_count": 1,
   "metadata": {
    "collapsed": true
   },
   "outputs": [],
   "source": [
    "import os\n",
    "import numpy as np\n",
    "import pandas as pd"
   ]
  },
  {
   "cell_type": "code",
   "execution_count": 3,
   "outputs": [],
   "source": [
    "wbf_merged_data = pd.read_csv(r'E:\\XR-AI\\datasets\\vinbigdata\\wbf_train_data_with_no_findings.csv')\n",
    "train_meta_data = pd.read_csv(r'E:\\XR-AI\\datasets\\vinbigdata\\train_meta.csv')\n",
    "unique_imageids = wbf_merged_data['image_id'].unique().tolist()"
   ],
   "metadata": {
    "collapsed": false
   }
  },
  {
   "cell_type": "code",
   "execution_count": 4,
   "outputs": [],
   "source": [
    "def create_label_textfile(image_id, wbf_merged_data, label_dir):\n",
    "    data = wbf_merged_data[wbf_merged_data['image_id'] == image_id]\n",
    "    train_meta = train_meta_data[train_meta_data['image_id'] == image_id]\n",
    "    width = train_meta['dim1'].values.tolist()[0]\n",
    "    height = train_meta['dim0'].values.tolist()[0]\n",
    "    class_id_lst = data['class_id'].values.tolist()\n",
    "    x_mid_lst = ((data['x_max'].values + data['x_min'].values) / (width * 2)).tolist()\n",
    "    y_mid_lst = ((data['y_max'].values + data['y_min'].values) / (height * 2)).tolist()\n",
    "    width_lst = ((data['x_max'].values - data['x_min'].values) / width).tolist()\n",
    "    height_lst = ((data['y_max'].values - data['y_min'].values) / height).tolist()\n",
    "    f = open(os.path.join(label_dir, image_id+'.txt'), 'w')\n",
    "\n",
    "    # Yolo Format (x_mid, y_mid, width, height)\n",
    "    for class_id, x_mid, y_mid, width, height in zip(class_id_lst, x_mid_lst, y_mid_lst, width_lst, height_lst):\n",
    "        line = str(class_id) + ' ' + str(x_mid) + ' ' + str(y_mid) + ' ' + str(width) + ' ' + str(height) + ' \\n'\n",
    "        f.write(line)\n",
    "    f.close()"
   ],
   "metadata": {
    "collapsed": false
   }
  },
  {
   "cell_type": "code",
   "execution_count": 5,
   "outputs": [
    {
     "name": "stdout",
     "output_type": "stream",
     "text": [
      "Conversion completed!\n"
     ]
    }
   ],
   "source": [
    "os.makedirs(r\"E:\\XR-AI\\datasets\\vinbigdata\\WBF_labels\")\n",
    "for i, imageid in enumerate(unique_imageids):\n",
    "    label_dir = r\"E:\\XR-AI\\datasets\\vinbigdata\\WBF_labels\"\n",
    "    test = wbf_merged_data[wbf_merged_data['image_id'] == imageid]\n",
    "    create_label_textfile(imageid, wbf_merged_data, label_dir)\n",
    "print(\"Conversion completed!\")"
   ],
   "metadata": {
    "collapsed": false
   }
  },
  {
   "cell_type": "code",
   "execution_count": null,
   "outputs": [],
   "source": [],
   "metadata": {
    "collapsed": false
   }
  }
 ],
 "metadata": {
  "kernelspec": {
   "display_name": "Python 3",
   "language": "python",
   "name": "python3"
  },
  "language_info": {
   "codemirror_mode": {
    "name": "ipython",
    "version": 2
   },
   "file_extension": ".py",
   "mimetype": "text/x-python",
   "name": "python",
   "nbconvert_exporter": "python",
   "pygments_lexer": "ipython2",
   "version": "2.7.6"
  }
 },
 "nbformat": 4,
 "nbformat_minor": 0
}
